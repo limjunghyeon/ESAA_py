{
  "nbformat": 4,
  "nbformat_minor": 0,
  "metadata": {
    "colab": {
      "provenance": [],
      "authorship_tag": "ABX9TyPVWBYDE/522GyAzF7QvwYK",
      "include_colab_link": true
    },
    "kernelspec": {
      "name": "python3",
      "display_name": "Python 3"
    },
    "language_info": {
      "name": "python"
    }
  },
  "cells": [
    {
      "cell_type": "markdown",
      "metadata": {
        "id": "view-in-github",
        "colab_type": "text"
      },
      "source": [
        "<a href=\"https://colab.research.google.com/github/limjunghyeon/ESAA_py/blob/main/23_03_10_ESAA_%EA%B3%BC%EC%A0%9C.ipynb\" target=\"_parent\"><img src=\"https://colab.research.google.com/assets/colab-badge.svg\" alt=\"Open In Colab\"/></a>"
      ]
    },
    {
      "cell_type": "markdown",
      "source": [
        "03 넘파이\n",
        "\n",
        ":파이썬에서 선형대수 기반의 프로그램을 쉽게 만들 수 있도록 지원하는 대표적인 패키지.\n",
        "\n",
        "●빠른 배열 연산속도 ( 루프X 대량 데이터 배열 연산 가능하게 함)\n",
        "\n",
        "●저수준 언어 기반의 호환 API 제공\n",
        "●편의성과 다양한 AOI 지원 측면에서 아쉬운 부분도 많음.\n",
        "\n",
        "\n",
        "1. **array( )**\n",
        ": 파이썬의 리스트와 같은 다양한 인자를 입력 받아 ndarray로 변환. 생성된 ndarray 배월의 shape 변수는 ndarray의 크기, 즉 행과 열의 수를 튜플 형태로 갖고 있으며 이를 통해 ndarray 배열의 차원까지 알 수 있음\n",
        "\n",
        "\n",
        "2. **np.array( )**\n",
        ":ndarray로 변환을 원하는 객체를 인자로 입력하면 ndarray를 반환\n",
        "\n",
        "  ndarray.shpe는 ndarray의 차원과 크기를 튜플 형태로 나타내 줌."
      ],
      "metadata": {
        "id": "IBVNU255uUPV"
      }
    },
    {
      "cell_type": "code",
      "execution_count": 1,
      "metadata": {
        "id": "jSXbhWKuqmWH"
      },
      "outputs": [],
      "source": [
        "import numpy as np"
      ]
    },
    {
      "cell_type": "code",
      "source": [
        "#넘파이 array( ) 함수\n",
        "array1=np.array([1,2,3])      #1차원\n",
        "print('array1 type:', type(array1))\n",
        "print('array1 array 형태:', array1.shape)\n",
        "\n",
        "array2=np.array([[1,2,3],[2,3,4]])\n",
        "print('array2 type:', type(array2))\n",
        "print('array2 array 형태:', array2.shape)\n",
        "\n",
        "array3=np.array([[1,2,3]])       #1개의 로우와 3개의 칼럼으로 구성된 2차원 데이터.\n",
        "print('array3 type:', type(array3))\n",
        "print('array3 array 형태:', array3.shape)\n",
        "\n",
        "\n",
        "print('array1: {:0}차원, array: {:1}차원, array3: {:2}차원'.format(array1.ndim, array2.ndim, array3.ndim))\n"
      ],
      "metadata": {
        "colab": {
          "base_uri": "https://localhost:8080/"
        },
        "id": "6GYM7cJpxnkc",
        "outputId": "fc907c26-eb1b-43d0-f029-f05282d4856e"
      },
      "execution_count": 5,
      "outputs": [
        {
          "output_type": "stream",
          "name": "stdout",
          "text": [
            "array1 type: <class 'numpy.ndarray'>\n",
            "array1 array 형태: (3,)\n",
            "array2 type: <class 'numpy.ndarray'>\n",
            "array2 array 형태: (2, 3)\n",
            "array3 type: <class 'numpy.ndarray'>\n",
            "array3 array 형태: (1, 3)\n",
            "array1: 1차원, array: 2차원, array3:  2차원\n"
          ]
        }
      ]
    },
    {
      "cell_type": "markdown",
      "source": [
        "**ndarray의 데이터 타입**\n",
        "\n",
        ":숫자, 문자, 불 값 등 모두 가능\n",
        "\n",
        "ndarray내의 데이터 타입은 그 연산의 특성상 같은 데이터 타입만 가능.\n",
        "-> 만약 다른 데이터 유형이 섞여 있는 리스트를 ndarray로 변경하면 데이터 크기가 더 큰 데이터 타입으로 형 변환을 일괄 적용.\n",
        "\n",
        "ndarray내의 데이터 타입은 dtype 속성으로 확인 가능."
      ],
      "metadata": {
        "id": "aB1FFFDl0bc7"
      }
    },
    {
      "cell_type": "code",
      "source": [
        "list1=[1,2,3]\n",
        "print(type(list1))\n",
        "array1=np.array(list1)\n",
        "print(type(array1))\n",
        "print(array1, array1.dtype)\n"
      ],
      "metadata": {
        "colab": {
          "base_uri": "https://localhost:8080/"
        },
        "id": "pmk-Q6FJ0143",
        "outputId": "08564bc9-2818-491c-b4c9-f2ae5ac1c34f"
      },
      "execution_count": 9,
      "outputs": [
        {
          "output_type": "stream",
          "name": "stdout",
          "text": [
            "<class 'list'>\n",
            "<class 'numpy.ndarray'>\n",
            "[1 2 3] int64\n"
          ]
        }
      ]
    },
    {
      "cell_type": "code",
      "source": [
        "list2= [1,2, 'test']\n",
        "array2=np.array(list2)\n",
        "print(array2, array2.dtype)\n",
        "\n",
        "list3=[1,2,3.0]\n",
        "array3=np.array(list3)\n",
        "print(array3, array3.dtype)"
      ],
      "metadata": {
        "colab": {
          "base_uri": "https://localhost:8080/"
        },
        "id": "dzsJ43172x1s",
        "outputId": "14358379-10fa-4480-8a06-b9a7a943d4c0"
      },
      "execution_count": 10,
      "outputs": [
        {
          "output_type": "stream",
          "name": "stdout",
          "text": [
            "['1' '2' 'test'] <U21\n",
            "[1. 2. 3.] float64\n"
          ]
        }
      ]
    },
    {
      "cell_type": "markdown",
      "source": [
        "●**astype ( )**\n",
        ": ndarray 내 데이터값의 타입 변경.\n",
        "  ( )에 인자로 원하는 타입을 문자열로 지정.\n",
        "  메모리 절약 위해 이용"
      ],
      "metadata": {
        "id": "jXVlpHSK3HdL"
      }
    },
    {
      "cell_type": "code",
      "source": [
        "#int 32 -> float64로 변환 / float64-> int32\n",
        "\n",
        "array_int = np.array([1,2,3])\n",
        "array_float = array_int.astype('float64')\n",
        "print(array_float, array_float.dtype)\n",
        "\n",
        "array_int1=array_float.astype('int32')\n",
        "print(array_int1, array_int1.dtype)\n",
        "\n",
        "array_float1 = np.array([1.1,2.1,3.1])\n",
        "array_int2=array_float1.astype('int32')\n",
        "print(array_int2, array_int2.dtype)"
      ],
      "metadata": {
        "colab": {
          "base_uri": "https://localhost:8080/"
        },
        "id": "cH8Xbmcm3aL5",
        "outputId": "cd92b054-edc1-4374-8fd3-c00889467492"
      },
      "execution_count": 14,
      "outputs": [
        {
          "output_type": "stream",
          "name": "stdout",
          "text": [
            "[1. 2. 3.] float64\n",
            "[1 2 3] int32\n",
            "[1 2 3] int32\n"
          ]
        }
      ]
    },
    {
      "cell_type": "markdown",
      "source": [
        "**ndarray 편리하게 생성**\n",
        "\n",
        "-특정 크이와 차원 가진 ndarray를 연속값이나 0 또는 1로 초기화해 쉽게 생성해야 할 필요가 있는 경우 사용하는 코드\n",
        "\n",
        "●**arange( )**\n",
        "\n",
        ":파이썬 표준 함수인 range( )와 유사. 0부터 함수 인자 값 -1까지의 값을 순차적으로 ndarray의 데이터값으로 변환.\n",
        "\n",
        "●**zeros( )**\n",
        "\n",
        ":함수 인자로 튜플 형태의 shape 값을 입력하면 모든 값을 0으로 채운 해당 shapeㄹㄹ 가진 ndarray를 반환.\n",
        "\n",
        "●**ones( )**\n",
        "\n",
        ":함수 인자로 튜플 형태의 shape 값을 입력하면 모든 값을 1로 채운 해당 shape를 가진 ndarray를 반환. 함수 인자로 dtype를 정해주지 않으면 default로 float64 형의 데이터로 ndarray 채움."
      ],
      "metadata": {
        "id": "0igJJjm64XFl"
      }
    },
    {
      "cell_type": "code",
      "source": [
        "##1.arange\n",
        "\n",
        "sequence_array=np.arange(10)\n",
        "print(sequence_array)\n",
        "print(sequence_array.dtype, sequence_array.shape)\n",
        "\n",
        "#default 함수 인자는 stop 값. 0부터 stop까지인 10에서 -1을 더한 9까지의 연속 숫자 값으로 구서된 1차원 ndarray 만듦.\n",
        "\n",
        "\n",
        "##2. zero\n",
        "zero_array = np.zeros((3,2),dtype='int32')\n",
        "print(zero_array)\n",
        "print(zero_array.dtype, zero_array.shape)\n",
        "\n",
        "##3. ones\n",
        "one_array=np.ones((3,2))\n",
        "print(one_array)\n",
        "print(one_array.dtype, one_array.shape)\n",
        "\n"
      ],
      "metadata": {
        "colab": {
          "base_uri": "https://localhost:8080/"
        },
        "id": "9MvEDneX5exe",
        "outputId": "658496c3-ab3d-4cec-dfc4-84a8a048f7f2"
      },
      "execution_count": 20,
      "outputs": [
        {
          "output_type": "stream",
          "name": "stdout",
          "text": [
            "[0 1 2 3 4 5 6 7 8 9]\n",
            "int64 (10,)\n",
            "[[0 0]\n",
            " [0 0]\n",
            " [0 0]]\n",
            "int32 (3, 2)\n",
            "[[1. 1.]\n",
            " [1. 1.]\n",
            " [1. 1.]]\n",
            "float64 (3, 2)\n"
          ]
        }
      ]
    },
    {
      "cell_type": "markdown",
      "source": [
        "ndarray의 차원과 크기를 변경하는 reshape( )\n",
        "\n",
        "●**reshape( )**\n",
        "\n",
        ":ndarray를 특정 차원 및 크기로 변환. 변환을 원하는 크기를 함수 인자로 부여.\n",
        "\n",
        "reshape( )에 -1 값을 인자로 적용하면 원래 ndarray와 호환되는 새로운 shape로 변환"
      ],
      "metadata": {
        "id": "-k0eRrgZ7Y_m"
      }
    },
    {
      "cell_type": "code",
      "source": [
        "#0~9까지의 1차원 ndarray를 2로우x5칼럼, 5로우x2칼럼 형태로 2차원 ndarray로 변환\n",
        "\n",
        "array1= np.arange(10)\n",
        "print('array:\\n', array1)\n",
        "\n",
        "array2=array1.reshape(2,5)\n",
        "print('array2:\\n',array2)\n",
        "\n",
        "array3 = array1.reshape(5,2)\n",
        "print('array:\\n', array3)"
      ],
      "metadata": {
        "colab": {
          "base_uri": "https://localhost:8080/"
        },
        "id": "ws8dasef7uxK",
        "outputId": "af24e747-be50-496e-f071-8f7aa8642730"
      },
      "execution_count": 21,
      "outputs": [
        {
          "output_type": "stream",
          "name": "stdout",
          "text": [
            "array:\n",
            " [0 1 2 3 4 5 6 7 8 9]\n",
            "array2:\n",
            " [[0 1 2 3 4]\n",
            " [5 6 7 8 9]]\n",
            "array:\n",
            " [[0 1]\n",
            " [2 3]\n",
            " [4 5]\n",
            " [6 7]\n",
            " [8 9]]\n"
          ]
        }
      ]
    },
    {
      "cell_type": "code",
      "source": [
        "array1.reshape(4,3)"
      ],
      "metadata": {
        "colab": {
          "base_uri": "https://localhost:8080/",
          "height": 172
        },
        "id": "MFCmCOiO9qVn",
        "outputId": "41a62d9d-6c1c-4e15-9668-8c40aaca9027"
      },
      "execution_count": 22,
      "outputs": [
        {
          "output_type": "error",
          "ename": "ValueError",
          "evalue": "ignored",
          "traceback": [
            "\u001b[0;31m---------------------------------------------------------------------------\u001b[0m",
            "\u001b[0;31mValueError\u001b[0m                                Traceback (most recent call last)",
            "\u001b[0;32m<ipython-input-22-a40469ec5825>\u001b[0m in \u001b[0;36m<module>\u001b[0;34m\u001b[0m\n\u001b[0;32m----> 1\u001b[0;31m \u001b[0marray1\u001b[0m\u001b[0;34m.\u001b[0m\u001b[0mreshape\u001b[0m\u001b[0;34m(\u001b[0m\u001b[0;36m4\u001b[0m\u001b[0;34m,\u001b[0m\u001b[0;36m3\u001b[0m\u001b[0;34m)\u001b[0m\u001b[0;34m\u001b[0m\u001b[0;34m\u001b[0m\u001b[0m\n\u001b[0m",
            "\u001b[0;31mValueError\u001b[0m: cannot reshape array of size 10 into shape (4,3)"
          ]
        }
      ]
    },
    {
      "cell_type": "code",
      "source": [
        "#인자 -1\n",
        "\n",
        "array1=np.arange(10)\n",
        "print(array1)\n",
        "array2 = array1.reshape(-1,5)\n",
        "print('array2 shape:', array2.shape)\n",
        "array3 = array1.reshape(5,-1)\n",
        "print('array3 shape:', array3.shape)"
      ],
      "metadata": {
        "colab": {
          "base_uri": "https://localhost:8080/"
        },
        "id": "2hSWqMLn90yW",
        "outputId": "1c670bc6-e597-49e8-8058-1c083d1a8110"
      },
      "execution_count": 24,
      "outputs": [
        {
          "output_type": "stream",
          "name": "stdout",
          "text": [
            "[0 1 2 3 4 5 6 7 8 9]\n",
            "array2 shape: (2, 5)\n",
            "array3 shape: (5, 2)\n"
          ]
        }
      ]
    },
    {
      "cell_type": "code",
      "source": [
        "array1=np.arange(10)\n",
        "array4=array1.reshape(-1,4)"
      ],
      "metadata": {
        "colab": {
          "base_uri": "https://localhost:8080/",
          "height": 190
        },
        "id": "-7isZOoG_PmF",
        "outputId": "b3c2250d-c5c5-47d7-daac-ba9d1bf48c16"
      },
      "execution_count": 26,
      "outputs": [
        {
          "output_type": "error",
          "ename": "ValueError",
          "evalue": "ignored",
          "traceback": [
            "\u001b[0;31m---------------------------------------------------------------------------\u001b[0m",
            "\u001b[0;31mValueError\u001b[0m                                Traceback (most recent call last)",
            "\u001b[0;32m<ipython-input-26-7f01f0f59baa>\u001b[0m in \u001b[0;36m<module>\u001b[0;34m\u001b[0m\n\u001b[1;32m      1\u001b[0m \u001b[0marray1\u001b[0m\u001b[0;34m=\u001b[0m\u001b[0mnp\u001b[0m\u001b[0;34m.\u001b[0m\u001b[0marange\u001b[0m\u001b[0;34m(\u001b[0m\u001b[0;36m10\u001b[0m\u001b[0;34m)\u001b[0m\u001b[0;34m\u001b[0m\u001b[0;34m\u001b[0m\u001b[0m\n\u001b[0;32m----> 2\u001b[0;31m \u001b[0marray4\u001b[0m\u001b[0;34m=\u001b[0m\u001b[0marray1\u001b[0m\u001b[0;34m.\u001b[0m\u001b[0mreshape\u001b[0m\u001b[0;34m(\u001b[0m\u001b[0;34m-\u001b[0m\u001b[0;36m1\u001b[0m\u001b[0;34m,\u001b[0m\u001b[0;36m4\u001b[0m\u001b[0;34m)\u001b[0m\u001b[0;34m\u001b[0m\u001b[0;34m\u001b[0m\u001b[0m\n\u001b[0m",
            "\u001b[0;31mValueError\u001b[0m: cannot reshape array of size 10 into shape (4)"
          ]
        }
      ]
    },
    {
      "cell_type": "code",
      "source": [
        "#tolist( ) : ndarray는 위의 메서드를 이용해 리스트 자료형으로 변환 가능.\n",
        "\n",
        "array1=np.arange(8)\n",
        "array3d=array1.reshape((2,2,2))\n",
        "print('array3d:\\n', array3d.tolist())\n",
        "\n",
        "#3차원 ndarray를 2차원 ndarray로 변환\n",
        "array5=array3d.reshape(-1,1)\n",
        "print('array5:\\n', array5.tolist())\n",
        "print('array5 shape:', array5.shape)\n",
        "\n",
        "#1차원 ndarray를 2차원 ndarray로 변환\n",
        "array6= array1.reshape(-1,1)\n",
        "print('array6:\\n', array6.tolist())\n",
        "print('array6 shape:', array6.shape)"
      ],
      "metadata": {
        "colab": {
          "base_uri": "https://localhost:8080/"
        },
        "id": "QJkGFHdCAYCB",
        "outputId": "481f4b5f-4de8-4671-b224-f3a260e50477"
      },
      "execution_count": 28,
      "outputs": [
        {
          "output_type": "stream",
          "name": "stdout",
          "text": [
            "array3d:\n",
            " [[[0, 1], [2, 3]], [[4, 5], [6, 7]]]\n",
            "array5:\n",
            " [[0], [1], [2], [3], [4], [5], [6], [7]]\n",
            "array5 shape: (8, 1)\n",
            "array6:\n",
            " [[0], [1], [2], [3], [4], [5], [6], [7]]\n",
            "array6 shape: (8, 1)\n"
          ]
        }
      ]
    },
    {
      "cell_type": "markdown",
      "source": [
        "**넘파이의 ndarray의 데이터 세트 서택하기 -indexing\n",
        "\n",
        ":넘파이에서 ndarray 내의 일부 데이터 세트나 특정 데이터만을 선택할 수 있도록 함.\n",
        "\n",
        "\n",
        "1. 특정한 데이터만 추출\n",
        "\n",
        "  : 원하는 위치의 인덱스 값을 지정하면 해당 위치의 데이터가 반환\n",
        "\n",
        "2. 슬라이싱\n",
        "\n",
        "  : 연속된 인덱스상의 ndarray를 추출하는 방식\n",
        "  ':' 기호 사이에 시작 인덱스와 종료 인덱스 표시하면 시작 인덱스에서 종료 인덱스-1에 있는 데이터의 ndarray 반환\n",
        "\n",
        "\n",
        "  3. 팬시 인덱싱\n",
        "  \n",
        "  : 일정한 인덱싱 집합을 리스트 또는 ndarray 형태로 지정해 해당 위치에 있는 데이터의 ndarray 반환.\n",
        "\n",
        "4. 불린 인덱싱\n",
        "\n",
        "  : 특정 조건에 해당하는 여수인 True/False 값 인덱싱 집합을 기반으로 True에 해당하는 인덱스 위치에 있는 데이터의 ndarray 반환.\n",
        "\n",
        "\n",
        "\n",
        "**단일 값 추출**\n"
      ],
      "metadata": {
        "id": "VznZ1cYcCcmi"
      }
    },
    {
      "cell_type": "code",
      "source": [
        "#1~9까지의 1차원 ndarray 생성\n",
        "array1=np.arange(start=1, stop=10)\n",
        "print('array1', array1)\n",
        "\n",
        "#index는 0부터 시작하므로 array1[2]는 3번째 index 위치의 데이터값을 의미\n",
        "value=array1[2]\n",
        "print('value:', value)\n",
        "print(type(value))"
      ],
      "metadata": {
        "colab": {
          "base_uri": "https://localhost:8080/"
        },
        "id": "8toyheNtCbBb",
        "outputId": "34717f7c-bc35-4c64-de77-87c02cfecb59"
      },
      "execution_count": 29,
      "outputs": [
        {
          "output_type": "stream",
          "name": "stdout",
          "text": [
            "array1 [1 2 3 4 5 6 7 8 9]\n",
            "value: 3\n",
            "<class 'numpy.int64'>\n"
          ]
        }
      ]
    },
    {
      "cell_type": "code",
      "source": [
        "print('맨 뒤의 값:', array1[-1], '맨 뒤에서 두 번째 값:', array1[-2])"
      ],
      "metadata": {
        "colab": {
          "base_uri": "https://localhost:8080/"
        },
        "id": "bNr-XkpqD5Eb",
        "outputId": "3657e08b-8ac8-4858-b5e9-e5adebff4d7a"
      },
      "execution_count": 30,
      "outputs": [
        {
          "output_type": "stream",
          "name": "stdout",
          "text": [
            "맨 뒤의 값: 9 맨 뒤에서 두 번째 값: 8\n"
          ]
        }
      ]
    },
    {
      "cell_type": "code",
      "source": [
        "array1[0]=9\n",
        "array1[8]=0\n",
        "print('array1:', array1)"
      ],
      "metadata": {
        "colab": {
          "base_uri": "https://localhost:8080/"
        },
        "id": "rBhw6bCLELkd",
        "outputId": "65c9e1b6-0ee6-4a1d-ac07-09ad75b1fd08"
      },
      "execution_count": 31,
      "outputs": [
        {
          "output_type": "stream",
          "name": "stdout",
          "text": [
            "array1: [9 2 3 4 5 6 7 8 0]\n"
          ]
        }
      ]
    },
    {
      "cell_type": "code",
      "source": [
        "array1d=np.arange(start=1, stop=10)\n",
        "array2d=array1d.reshape(3,3)\n",
        "print(array2d)\n",
        "      \n",
        "print('(row=0,col=0) index 가르키는 값:', array2d[0,0])\n",
        "print('(row=0,col=1) index 가르키는 값:', array2d[0,1])\n",
        "print('(row=1,col=0) index 가르키는 값:', array2d[1,0])\n",
        "print('(row=2,col=2) index 가르키는 값:', array2d[2,2])"
      ],
      "metadata": {
        "colab": {
          "base_uri": "https://localhost:8080/"
        },
        "id": "SSTdh59AEWM4",
        "outputId": "5f27e94d-66ce-46ec-e56d-2100b8b81964"
      },
      "execution_count": 37,
      "outputs": [
        {
          "output_type": "stream",
          "name": "stdout",
          "text": [
            "[[1 2 3]\n",
            " [4 5 6]\n",
            " [7 8 9]]\n",
            "(row=0,col=0) index 가르키는 값: 1\n",
            "(row=0,col=1) index 가르키는 값: 2\n",
            "(row=1,col=0) index 가르키는 값: 4\n",
            "(row=2,col=2) index 가르키는 값: 9\n"
          ]
        }
      ]
    },
    {
      "cell_type": "markdown",
      "source": [
        "**슬라이싱**\n",
        "\n",
        ":  ':'기호를 이용해 연속한 데이터를 슬라이싱해서 추출 가능.\n",
        "\n",
        "단일 데이터값 추출을 제외하고 스라이싱, 팬시 인덱싱, 불린 인덱싱으로 추출된 데이터 세트는 모두 ndarray 타입.\n",
        "\n"
      ],
      "metadata": {
        "id": "7TzOTp24GsP-"
      }
    },
    {
      "cell_type": "code",
      "source": [
        "array1=np.arange(start=1, stop=10)\n",
        "array3= array1[0:3]\n",
        "print(array3)\n",
        "print(type(array3))"
      ],
      "metadata": {
        "colab": {
          "base_uri": "https://localhost:8080/"
        },
        "id": "OO9xJoTBG-sN",
        "outputId": "c8f7f3e2-2d21-4d22-905c-5b9565773c13"
      },
      "execution_count": 39,
      "outputs": [
        {
          "output_type": "stream",
          "name": "stdout",
          "text": [
            "[1 2 3]\n",
            "<class 'numpy.ndarray'>\n"
          ]
        }
      ]
    },
    {
      "cell_type": "code",
      "source": [
        "array1=np.arange(start=1, stop=10)\n",
        "array4=array1[:3]\n",
        "print(array4)\n",
        "\n",
        "array5=array1[3:]\n",
        "print(array5)\n",
        "\n",
        "array6=array1[:]\n",
        "print(array6)"
      ],
      "metadata": {
        "colab": {
          "base_uri": "https://localhost:8080/"
        },
        "id": "PYBUnU6FHrgd",
        "outputId": "bb255a30-0c32-4231-b754-6f430ae63cfb"
      },
      "execution_count": 41,
      "outputs": [
        {
          "output_type": "stream",
          "name": "stdout",
          "text": [
            "[1 2 3]\n",
            "[4 5 6 7 8 9]\n",
            "[1 2 3 4 5 6 7 8 9]\n"
          ]
        }
      ]
    },
    {
      "cell_type": "code",
      "source": [
        "array1d=np.arange(start=1, stop=10)\n",
        "array2d=array1d.reshape(3,3)\n",
        "print('array2d:\\n', array2d)\n",
        "\n",
        "\n",
        "print('array2d[0:2, 0:2]\\n', array2d[0:2, 0:2])\n",
        "print('array2d[1:3, 0:3]\\n', array2d[1:3, 0:3])\n",
        "print('array2d[1:3, :]\\n', array2d[1:3, :])\n",
        "print('array2d[:, :]\\n', array2d[:, :])\n",
        "print('array2d[:2, 1:]\\n', array2d[:2, 1:])\n",
        "print('array2d[:2, 0]\\n', array2d[:2, 0])"
      ],
      "metadata": {
        "colab": {
          "base_uri": "https://localhost:8080/"
        },
        "id": "96n49HufIY6R",
        "outputId": "903e44fe-58fa-4826-f725-e2f665937050"
      },
      "execution_count": 43,
      "outputs": [
        {
          "output_type": "stream",
          "name": "stdout",
          "text": [
            "array2d:\n",
            " [[1 2 3]\n",
            " [4 5 6]\n",
            " [7 8 9]]\n",
            "array2d[0:2, 0:2]\n",
            " [[1 2]\n",
            " [4 5]]\n",
            "array2d[1:3, 0:3]\n",
            " [[4 5 6]\n",
            " [7 8 9]]\n",
            "array2d[1:3, :]\n",
            " [[4 5 6]\n",
            " [7 8 9]]\n",
            "array2d[:, :]\n",
            " [[1 2 3]\n",
            " [4 5 6]\n",
            " [7 8 9]]\n",
            "array2d[:2, 1:]\n",
            " [[2 3]\n",
            " [5 6]]\n",
            "array2d[:2, 0]\n",
            " [1 4]\n"
          ]
        }
      ]
    },
    {
      "cell_type": "code",
      "source": [
        "print(array2d[0])\n",
        "print(array2d[1])\n",
        "print('array2d[0] shape:', array2d[0].shape, 'array2d[1] shape:', array2d[1].shape)"
      ],
      "metadata": {
        "colab": {
          "base_uri": "https://localhost:8080/"
        },
        "id": "nrroQ2p2JlCW",
        "outputId": "fd97c93f-b03f-4b7c-b08b-b76a0c5d4280"
      },
      "execution_count": 44,
      "outputs": [
        {
          "output_type": "stream",
          "name": "stdout",
          "text": [
            "[1 2 3]\n",
            "[4 5 6]\n",
            "array2d[0] shape: (3,) array2d[1] shape: (3,)\n"
          ]
        }
      ]
    },
    {
      "cell_type": "markdown",
      "source": [
        "**팬시 인덱싱**\n",
        "\n",
        ":팬시 인덱싱은 리스트나 ndarray로 인덱스 집합을 지정하면 해당 위치의 인덱스에 해당하는 ndarray를 반환하는 인덱싱 방식."
      ],
      "metadata": {
        "id": "iz-PScTZJ4HI"
      }
    },
    {
      "cell_type": "code",
      "source": [
        "array1d=np.arange(start=1, stop=10)\n",
        "array2d=array1d.reshape(3,3)\n",
        "\n",
        "array3=array2d[[0,1],2]\n",
        "print('array2d[[0,1],2]=>', array3.tolist())\n",
        "\n",
        "array4=array2d[[0,1], 0:2]\n",
        "print('array2d[[0,1], 0:2] =>', array4.tolist())\n",
        "\n",
        "array5=array2d[[0,1]]\n",
        "print('array2d[[0,1]] =>', array5.tolist())"
      ],
      "metadata": {
        "colab": {
          "base_uri": "https://localhost:8080/"
        },
        "id": "pPgmr2B4KLRU",
        "outputId": "01112bf8-d42f-4410-8f4e-69e0ddcc965e"
      },
      "execution_count": 46,
      "outputs": [
        {
          "output_type": "stream",
          "name": "stdout",
          "text": [
            "array2d[[0,1],2]=> [3, 6]\n",
            "array2d[[0,1], 0:2] => [[1, 2], [4, 5]]\n",
            "array2d[[0,1]] => [[1, 2, 3], [4, 5, 6]]\n"
          ]
        }
      ]
    },
    {
      "cell_type": "markdown",
      "source": [
        "**불린 인덱싱**\n",
        "\n",
        ":조건 필터링과 검색 동시에 가능."
      ],
      "metadata": {
        "id": "wkx-SAxSLwe3"
      }
    },
    {
      "cell_type": "code",
      "source": [
        "array1d=np.arange(start=1, stop=10)\n",
        "#[ ] 안에 array1d>5 Boolean indexing을 적용\n",
        "array3= array1d[array1d >5]\n",
        "print('array1d >5 불린 인덱싱 결과 값:', array3)\n",
        "\n",
        "\n",
        "array1d >5"
      ],
      "metadata": {
        "colab": {
          "base_uri": "https://localhost:8080/"
        },
        "id": "uGAIkq4lLr6J",
        "outputId": "f308d53c-a70c-4faa-ff1e-12f472309a6d"
      },
      "execution_count": 49,
      "outputs": [
        {
          "output_type": "stream",
          "name": "stdout",
          "text": [
            "array1d >5 불린 인덱싱 결과 값: [6 7 8 9]\n"
          ]
        },
        {
          "output_type": "execute_result",
          "data": {
            "text/plain": [
              "array([False, False, False, False, False,  True,  True,  True,  True])"
            ]
          },
          "metadata": {},
          "execution_count": 49
        }
      ]
    },
    {
      "cell_type": "code",
      "source": [
        "boolean_indexes=np.array([False,False,False,False,False,True,True,True,True])\n",
        "array3=array1d[boolean_indexes]\n",
        "print('불린 인덱스로 필터링 결과:', array3)\n",
        "\n",
        "#위와 아래 동일\n",
        "\n",
        "indexes=np.array([5,6,7,8])\n",
        "array4=array1d[indexes]\n",
        "print('일반 인덱스로 필터링 결과:', array4)\n"
      ],
      "metadata": {
        "colab": {
          "base_uri": "https://localhost:8080/"
        },
        "id": "GFFdVfuNT1Fx",
        "outputId": "f9d4a11e-f588-40d4-8144-331065692099"
      },
      "execution_count": 51,
      "outputs": [
        {
          "output_type": "stream",
          "name": "stdout",
          "text": [
            "불린 인덱스로 필터링 결과: [6 7 8 9]\n",
            "일반 인덱스로 필터링 결과: [6 7 8 9]\n"
          ]
        }
      ]
    },
    {
      "cell_type": "markdown",
      "source": [
        "**행렬의 정렬**\n",
        "\n",
        "●np.sort( )\n",
        "\n",
        ":넘파이에서 sort( ) 호출. 원 행렬은 그대로 유지한 채 원 행렬의 정렬된 행렬을 반환.\n",
        "\n",
        "●ndarray.sort( )\n",
        "\n",
        ":행렬자체에서 sort( ) 호출. 원 행렬 자체를 정렬한 형태로 변환. 반환 값은 NOne\n",
        "\n",
        "●argsort( )\n",
        "\n",
        ":기존 원본 행렬의 원소에 대한 인덱스를 필요할 때, np.argsort( )를 이용. 정렬 행렬의 원본 행렬 인덱스를 ndarray형으로 반환"
      ],
      "metadata": {
        "id": "BG0ailm5U3P9"
      }
    },
    {
      "cell_type": "code",
      "source": [
        "org_array=np.array([3,1,9,5])\n",
        "print('원본 행렬:', org_array)\n",
        "\n",
        "#np.sort( )로 정렬\n",
        "sort_array1=np.sort(org_array)\n",
        "print('np.sort( ) 호출 후 반환된 정렬 행렬:', sort_array1)\n",
        "print('np.sort( ) 호출 후 원본 행렬:', org_array)\n",
        "\n",
        "#ndarray.sort( )로 정렬\n",
        "sort_array2=org_array.sort()\n",
        "print('org_array.sort( ) 호출 후 반환된 행렬:', sort_array2)\n",
        "print('org_array.sort( ) 호출 후 원본 행렬:', org_array)"
      ],
      "metadata": {
        "colab": {
          "base_uri": "https://localhost:8080/"
        },
        "id": "zAO1Ti9DVVFN",
        "outputId": "b1b495d0-573e-44d6-8c35-433f378aff15"
      },
      "execution_count": 54,
      "outputs": [
        {
          "output_type": "stream",
          "name": "stdout",
          "text": [
            "원본 행렬: [3 1 9 5]\n",
            "np.sort( ) 호출 후 반환된 정렬 행렬: [1 3 5 9]\n",
            "np.sort( ) 호출 후 원본 행렬: [3 1 9 5]\n",
            "org_array.sort( ) 호출 후 반환된 행렬: None\n",
            "org_array.sort( ) 호출 후 원본 행렬: [1 3 5 9]\n"
          ]
        }
      ]
    },
    {
      "cell_type": "code",
      "source": [
        "#내림차순으로 정렬 -> ex.np.sort( )[::-1]\n",
        "sort_array1_desc=np.sort(org_array)[::-1]\n",
        "print('내림차순으로 정렬:', sort_array1_desc)"
      ],
      "metadata": {
        "colab": {
          "base_uri": "https://localhost:8080/"
        },
        "id": "tEAdXQpMWMaw",
        "outputId": "cf656fc2-b68c-4939-8847-6491532f254c"
      },
      "execution_count": 57,
      "outputs": [
        {
          "output_type": "stream",
          "name": "stdout",
          "text": [
            "내림차순으로 정렬: [9 5 3 1]\n"
          ]
        }
      ]
    },
    {
      "cell_type": "code",
      "source": [
        "array2d=np.array([[8,12], [7,1]])\n",
        "\n",
        "sort_array2d_axis0=np.sort(array2d, axis=0)\n",
        "print('로우 방향으로 정렬:\\n', sort_array2d_axis0)\n",
        "\n",
        "sort_array2d_axis1=np.sort(array2d, axis=1)\n",
        "print('칼럼 방향으로 정렬:\\n', sort_array2d_axis1)"
      ],
      "metadata": {
        "colab": {
          "base_uri": "https://localhost:8080/"
        },
        "id": "IlUfED_YWouM",
        "outputId": "957cfed5-afd3-4d5a-ed21-e22951fc2973"
      },
      "execution_count": 59,
      "outputs": [
        {
          "output_type": "stream",
          "name": "stdout",
          "text": [
            "로우 방향으로 정렬:\n",
            " [[ 7  1]\n",
            " [ 8 12]]\n",
            "칼럼 방향으로 정렬:\n",
            " [[ 8 12]\n",
            " [ 1  7]]\n"
          ]
        }
      ]
    },
    {
      "cell_type": "code",
      "source": [
        "#np.argsort( )\n",
        "org_array=np.array([3,1,9,5])\n",
        "sort_indices=np.argsort(org_array)\n",
        "print(type(sort_indices))\n",
        "print('행렬 정렬 시 원본 행렬의 인덱스:', sort_indices)\n",
        "\n",
        "#내림차순 -> np.sort()[::-1]\n",
        "\n",
        "org_array=np.array([3,1,9,5])\n",
        "sort_indices_desc=np.argsort(org_array)[::-1]\n",
        "print('행렬 내림차순 정렬 시 원본 행렬의 인덱스:', sort_indices_desc)\n"
      ],
      "metadata": {
        "colab": {
          "base_uri": "https://localhost:8080/"
        },
        "id": "YiQRn_l5X5LS",
        "outputId": "9bfa6490-6d09-468b-fa25-5947864d8196"
      },
      "execution_count": 62,
      "outputs": [
        {
          "output_type": "stream",
          "name": "stdout",
          "text": [
            "<class 'numpy.ndarray'>\n",
            "행렬 정렬 시 원본 행렬의 인덱스: [1 0 3 2]\n",
            "행렬 내림차순 정렬 시 원본 행렬의 인덱스: [2 3 0 1]\n"
          ]
        }
      ]
    },
    {
      "cell_type": "code",
      "source": [
        "import numpy as np\n",
        "\n",
        "name_array = np.array(['John', 'Mike', 'Sarah', 'kate', 'Samuel'])\n",
        "score_array=np.array([78,95,84,98,88])\n",
        "\n",
        "sort_indices_asc=np.argsort(score_array)\n",
        "print('성적 오름차순 정렬 시 score_array의 인덱스:', sort_indices_asc)\n",
        "print('성적 오름차순으로 name_array의 이름 출력:', name_array[sort_indices_asc])"
      ],
      "metadata": {
        "colab": {
          "base_uri": "https://localhost:8080/"
        },
        "id": "9YPUJWX3Y5j6",
        "outputId": "702395e0-c749-4b19-81db-51af17d1eccf"
      },
      "execution_count": 63,
      "outputs": [
        {
          "output_type": "stream",
          "name": "stdout",
          "text": [
            "성적 오름차순 정렬 시 score_array의 인덱스: [0 2 4 1 3]\n",
            "성적 오름차순으로 name_array의 이름 출력: ['John' 'Sarah' 'Samuel' 'Mike' 'kate']\n"
          ]
        }
      ]
    },
    {
      "cell_type": "markdown",
      "source": [
        "선형대수 연산- 행렬 내적과 전치 행렬 구하기\n",
        "\n",
        "●**np.dot()**\n",
        "\n",
        ":행렬 내적(행렬의 곱)\n",
        "\n",
        "●**transpose()**\n",
        "\n",
        ":전치 행렬"
      ],
      "metadata": {
        "id": "LWi3ErRlZnjA"
      }
    },
    {
      "cell_type": "code",
      "source": [
        "#내적\n",
        "\n",
        "A=np.array([[1,2,3],[4,5,6]])\n",
        "B=np.array([[7,8],[9,18],[11,12]])\n",
        "dot_product=np.dot(A,B)\n",
        "print('행렬 내적 결과:\\n',dot_product)\n",
        "\n",
        "\n",
        "\n",
        "#전치행렬\n",
        "A=np.array([[1,2],[3,4]])\n",
        "transpose_mat=np.transpose(A)\n",
        "print('A의 전치행렬:\\n', transpose_mat)"
      ],
      "metadata": {
        "colab": {
          "base_uri": "https://localhost:8080/"
        },
        "id": "q8jJv76cZ7sR",
        "outputId": "4db0db49-44a2-4dca-e565-3c6098e40cce"
      },
      "execution_count": 70,
      "outputs": [
        {
          "output_type": "stream",
          "name": "stdout",
          "text": [
            "행렬 내적 결과:\n",
            " [[ 58  80]\n",
            " [139 194]]\n",
            "A의 전치행렬:\n",
            " [[1 3]\n",
            " [2 4]]\n"
          ]
        }
      ]
    }
  ]
}